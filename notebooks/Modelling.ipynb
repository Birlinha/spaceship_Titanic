{
 "cells": [
  {
   "cell_type": "code",
   "execution_count": 1,
   "id": "b2e3b262",
   "metadata": {},
   "outputs": [],
   "source": [
    "#!pip install tensorflow"
   ]
  },
  {
   "cell_type": "code",
   "execution_count": null,
   "id": "84d23bb3",
   "metadata": {},
   "outputs": [],
   "source": []
  },
  {
   "cell_type": "code",
   "execution_count": 2,
   "id": "4dd62b8e",
   "metadata": {},
   "outputs": [],
   "source": [
    "#import tensorflow as tf\n",
    "#from tensorflow.keras import layers\n",
    "#from tensorflow.keras import models\n",
    "#from tensorflow.keras.models import Sequential\n",
    "from train_test_split import tt_split"
   ]
  },
  {
   "cell_type": "code",
   "execution_count": null,
   "id": "36f7c45f",
   "metadata": {},
   "outputs": [],
   "source": [
    "X = train.drop(columns=[\"Transported\"])\n",
    "y = train[\"Transported\"]\n",
    "\n",
    "X_train, X_valid, y_train, y_valid = tt_split(X,y)\n",
    "\n",
    "print(len(X_train) == len(y_train))"
   ]
  }
 ],
 "metadata": {
  "kernelspec": {
   "display_name": "Python 3 (ipykernel)",
   "language": "python",
   "name": "python3"
  },
  "language_info": {
   "codemirror_mode": {
    "name": "ipython",
    "version": 3
   },
   "file_extension": ".py",
   "mimetype": "text/x-python",
   "name": "python",
   "nbconvert_exporter": "python",
   "pygments_lexer": "ipython3",
   "version": "3.9.12"
  }
 },
 "nbformat": 4,
 "nbformat_minor": 5
}
