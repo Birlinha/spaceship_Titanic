{
 "cells": [
  {
   "cell_type": "code",
   "execution_count": 72,
   "id": "797795f5",
   "metadata": {},
   "outputs": [],
   "source": [
    "import pandas as pd\n",
    "from sklearn import preprocessing\n",
    "import numpy as np"
   ]
  },
  {
   "cell_type": "code",
   "execution_count": 2,
   "id": "8fbd9532",
   "metadata": {},
   "outputs": [],
   "source": [
    "train = pd.read_csv(\"../input/train.csv\")\n",
    "test = pd.read_csv(\"../input/test.csv\")"
   ]
  },
  {
   "cell_type": "code",
   "execution_count": 3,
   "id": "8e5cb79c",
   "metadata": {},
   "outputs": [],
   "source": [
    "target = train[\"Transported\"]\n",
    "X = train.drop(columns=[\"Transported\"])"
   ]
  },
  {
   "cell_type": "code",
   "execution_count": 4,
   "id": "ce8fdfd5",
   "metadata": {},
   "outputs": [
    {
     "data": {
      "text/plain": [
       "12970"
      ]
     },
     "execution_count": 4,
     "metadata": {},
     "output_type": "execute_result"
    }
   ],
   "source": [
    "len(X) + len(test)"
   ]
  },
  {
   "cell_type": "code",
   "execution_count": null,
   "id": "d455b2f5",
   "metadata": {},
   "outputs": [],
   "source": []
  },
  {
   "cell_type": "code",
   "execution_count": 5,
   "id": "eb95e02e",
   "metadata": {},
   "outputs": [
    {
     "data": {
      "text/html": [
       "<div>\n",
       "<style scoped>\n",
       "    .dataframe tbody tr th:only-of-type {\n",
       "        vertical-align: middle;\n",
       "    }\n",
       "\n",
       "    .dataframe tbody tr th {\n",
       "        vertical-align: top;\n",
       "    }\n",
       "\n",
       "    .dataframe thead th {\n",
       "        text-align: right;\n",
       "    }\n",
       "</style>\n",
       "<table border=\"1\" class=\"dataframe\">\n",
       "  <thead>\n",
       "    <tr style=\"text-align: right;\">\n",
       "      <th></th>\n",
       "      <th>PassengerId</th>\n",
       "      <th>HomePlanet</th>\n",
       "      <th>CryoSleep</th>\n",
       "      <th>Cabin</th>\n",
       "      <th>Destination</th>\n",
       "      <th>Age</th>\n",
       "      <th>VIP</th>\n",
       "      <th>RoomService</th>\n",
       "      <th>FoodCourt</th>\n",
       "      <th>ShoppingMall</th>\n",
       "      <th>Spa</th>\n",
       "      <th>VRDeck</th>\n",
       "      <th>Name</th>\n",
       "      <th>Transported</th>\n",
       "    </tr>\n",
       "  </thead>\n",
       "  <tbody>\n",
       "    <tr>\n",
       "      <th>0</th>\n",
       "      <td>0001_01</td>\n",
       "      <td>Europa</td>\n",
       "      <td>False</td>\n",
       "      <td>B/0/P</td>\n",
       "      <td>TRAPPIST-1e</td>\n",
       "      <td>39.0</td>\n",
       "      <td>False</td>\n",
       "      <td>0.0</td>\n",
       "      <td>0.0</td>\n",
       "      <td>0.0</td>\n",
       "      <td>0.0</td>\n",
       "      <td>0.0</td>\n",
       "      <td>Maham Ofracculy</td>\n",
       "      <td>False</td>\n",
       "    </tr>\n",
       "    <tr>\n",
       "      <th>1</th>\n",
       "      <td>0002_01</td>\n",
       "      <td>Earth</td>\n",
       "      <td>False</td>\n",
       "      <td>F/0/S</td>\n",
       "      <td>TRAPPIST-1e</td>\n",
       "      <td>24.0</td>\n",
       "      <td>False</td>\n",
       "      <td>109.0</td>\n",
       "      <td>9.0</td>\n",
       "      <td>25.0</td>\n",
       "      <td>549.0</td>\n",
       "      <td>44.0</td>\n",
       "      <td>Juanna Vines</td>\n",
       "      <td>True</td>\n",
       "    </tr>\n",
       "    <tr>\n",
       "      <th>2</th>\n",
       "      <td>0003_01</td>\n",
       "      <td>Europa</td>\n",
       "      <td>False</td>\n",
       "      <td>A/0/S</td>\n",
       "      <td>TRAPPIST-1e</td>\n",
       "      <td>58.0</td>\n",
       "      <td>True</td>\n",
       "      <td>43.0</td>\n",
       "      <td>3576.0</td>\n",
       "      <td>0.0</td>\n",
       "      <td>6715.0</td>\n",
       "      <td>49.0</td>\n",
       "      <td>Altark Susent</td>\n",
       "      <td>False</td>\n",
       "    </tr>\n",
       "    <tr>\n",
       "      <th>3</th>\n",
       "      <td>0003_02</td>\n",
       "      <td>Europa</td>\n",
       "      <td>False</td>\n",
       "      <td>A/0/S</td>\n",
       "      <td>TRAPPIST-1e</td>\n",
       "      <td>33.0</td>\n",
       "      <td>False</td>\n",
       "      <td>0.0</td>\n",
       "      <td>1283.0</td>\n",
       "      <td>371.0</td>\n",
       "      <td>3329.0</td>\n",
       "      <td>193.0</td>\n",
       "      <td>Solam Susent</td>\n",
       "      <td>False</td>\n",
       "    </tr>\n",
       "    <tr>\n",
       "      <th>4</th>\n",
       "      <td>0004_01</td>\n",
       "      <td>Earth</td>\n",
       "      <td>False</td>\n",
       "      <td>F/1/S</td>\n",
       "      <td>TRAPPIST-1e</td>\n",
       "      <td>16.0</td>\n",
       "      <td>False</td>\n",
       "      <td>303.0</td>\n",
       "      <td>70.0</td>\n",
       "      <td>151.0</td>\n",
       "      <td>565.0</td>\n",
       "      <td>2.0</td>\n",
       "      <td>Willy Santantines</td>\n",
       "      <td>True</td>\n",
       "    </tr>\n",
       "  </tbody>\n",
       "</table>\n",
       "</div>"
      ],
      "text/plain": [
       "  PassengerId HomePlanet CryoSleep  Cabin  Destination   Age    VIP  \\\n",
       "0     0001_01     Europa     False  B/0/P  TRAPPIST-1e  39.0  False   \n",
       "1     0002_01      Earth     False  F/0/S  TRAPPIST-1e  24.0  False   \n",
       "2     0003_01     Europa     False  A/0/S  TRAPPIST-1e  58.0   True   \n",
       "3     0003_02     Europa     False  A/0/S  TRAPPIST-1e  33.0  False   \n",
       "4     0004_01      Earth     False  F/1/S  TRAPPIST-1e  16.0  False   \n",
       "\n",
       "   RoomService  FoodCourt  ShoppingMall     Spa  VRDeck               Name  \\\n",
       "0          0.0        0.0           0.0     0.0     0.0    Maham Ofracculy   \n",
       "1        109.0        9.0          25.0   549.0    44.0       Juanna Vines   \n",
       "2         43.0     3576.0           0.0  6715.0    49.0      Altark Susent   \n",
       "3          0.0     1283.0         371.0  3329.0   193.0       Solam Susent   \n",
       "4        303.0       70.0         151.0   565.0     2.0  Willy Santantines   \n",
       "\n",
       "   Transported  \n",
       "0        False  \n",
       "1         True  \n",
       "2        False  \n",
       "3        False  \n",
       "4         True  "
      ]
     },
     "execution_count": 5,
     "metadata": {},
     "output_type": "execute_result"
    }
   ],
   "source": [
    "train.head()"
   ]
  },
  {
   "cell_type": "code",
   "execution_count": 6,
   "id": "30402b64",
   "metadata": {},
   "outputs": [
    {
     "data": {
      "text/html": [
       "<div>\n",
       "<style scoped>\n",
       "    .dataframe tbody tr th:only-of-type {\n",
       "        vertical-align: middle;\n",
       "    }\n",
       "\n",
       "    .dataframe tbody tr th {\n",
       "        vertical-align: top;\n",
       "    }\n",
       "\n",
       "    .dataframe thead th {\n",
       "        text-align: right;\n",
       "    }\n",
       "</style>\n",
       "<table border=\"1\" class=\"dataframe\">\n",
       "  <thead>\n",
       "    <tr style=\"text-align: right;\">\n",
       "      <th></th>\n",
       "      <th>PassengerId</th>\n",
       "      <th>HomePlanet</th>\n",
       "      <th>CryoSleep</th>\n",
       "      <th>Cabin</th>\n",
       "      <th>Destination</th>\n",
       "      <th>Age</th>\n",
       "      <th>VIP</th>\n",
       "      <th>RoomService</th>\n",
       "      <th>FoodCourt</th>\n",
       "      <th>ShoppingMall</th>\n",
       "      <th>Spa</th>\n",
       "      <th>VRDeck</th>\n",
       "      <th>Name</th>\n",
       "    </tr>\n",
       "  </thead>\n",
       "  <tbody>\n",
       "    <tr>\n",
       "      <th>0</th>\n",
       "      <td>0013_01</td>\n",
       "      <td>Earth</td>\n",
       "      <td>True</td>\n",
       "      <td>G/3/S</td>\n",
       "      <td>TRAPPIST-1e</td>\n",
       "      <td>27.0</td>\n",
       "      <td>False</td>\n",
       "      <td>0.0</td>\n",
       "      <td>0.0</td>\n",
       "      <td>0.0</td>\n",
       "      <td>0.0</td>\n",
       "      <td>0.0</td>\n",
       "      <td>Nelly Carsoning</td>\n",
       "    </tr>\n",
       "    <tr>\n",
       "      <th>1</th>\n",
       "      <td>0018_01</td>\n",
       "      <td>Earth</td>\n",
       "      <td>False</td>\n",
       "      <td>F/4/S</td>\n",
       "      <td>TRAPPIST-1e</td>\n",
       "      <td>19.0</td>\n",
       "      <td>False</td>\n",
       "      <td>0.0</td>\n",
       "      <td>9.0</td>\n",
       "      <td>0.0</td>\n",
       "      <td>2823.0</td>\n",
       "      <td>0.0</td>\n",
       "      <td>Lerome Peckers</td>\n",
       "    </tr>\n",
       "    <tr>\n",
       "      <th>2</th>\n",
       "      <td>0019_01</td>\n",
       "      <td>Europa</td>\n",
       "      <td>True</td>\n",
       "      <td>C/0/S</td>\n",
       "      <td>55 Cancri e</td>\n",
       "      <td>31.0</td>\n",
       "      <td>False</td>\n",
       "      <td>0.0</td>\n",
       "      <td>0.0</td>\n",
       "      <td>0.0</td>\n",
       "      <td>0.0</td>\n",
       "      <td>0.0</td>\n",
       "      <td>Sabih Unhearfus</td>\n",
       "    </tr>\n",
       "    <tr>\n",
       "      <th>3</th>\n",
       "      <td>0021_01</td>\n",
       "      <td>Europa</td>\n",
       "      <td>False</td>\n",
       "      <td>C/1/S</td>\n",
       "      <td>TRAPPIST-1e</td>\n",
       "      <td>38.0</td>\n",
       "      <td>False</td>\n",
       "      <td>0.0</td>\n",
       "      <td>6652.0</td>\n",
       "      <td>0.0</td>\n",
       "      <td>181.0</td>\n",
       "      <td>585.0</td>\n",
       "      <td>Meratz Caltilter</td>\n",
       "    </tr>\n",
       "    <tr>\n",
       "      <th>4</th>\n",
       "      <td>0023_01</td>\n",
       "      <td>Earth</td>\n",
       "      <td>False</td>\n",
       "      <td>F/5/S</td>\n",
       "      <td>TRAPPIST-1e</td>\n",
       "      <td>20.0</td>\n",
       "      <td>False</td>\n",
       "      <td>10.0</td>\n",
       "      <td>0.0</td>\n",
       "      <td>635.0</td>\n",
       "      <td>0.0</td>\n",
       "      <td>0.0</td>\n",
       "      <td>Brence Harperez</td>\n",
       "    </tr>\n",
       "  </tbody>\n",
       "</table>\n",
       "</div>"
      ],
      "text/plain": [
       "  PassengerId HomePlanet CryoSleep  Cabin  Destination   Age    VIP  \\\n",
       "0     0013_01      Earth      True  G/3/S  TRAPPIST-1e  27.0  False   \n",
       "1     0018_01      Earth     False  F/4/S  TRAPPIST-1e  19.0  False   \n",
       "2     0019_01     Europa      True  C/0/S  55 Cancri e  31.0  False   \n",
       "3     0021_01     Europa     False  C/1/S  TRAPPIST-1e  38.0  False   \n",
       "4     0023_01      Earth     False  F/5/S  TRAPPIST-1e  20.0  False   \n",
       "\n",
       "   RoomService  FoodCourt  ShoppingMall     Spa  VRDeck              Name  \n",
       "0          0.0        0.0           0.0     0.0     0.0   Nelly Carsoning  \n",
       "1          0.0        9.0           0.0  2823.0     0.0    Lerome Peckers  \n",
       "2          0.0        0.0           0.0     0.0     0.0   Sabih Unhearfus  \n",
       "3          0.0     6652.0           0.0   181.0   585.0  Meratz Caltilter  \n",
       "4         10.0        0.0         635.0     0.0     0.0   Brence Harperez  "
      ]
     },
     "execution_count": 6,
     "metadata": {},
     "output_type": "execute_result"
    }
   ],
   "source": [
    "test.head()"
   ]
  },
  {
   "cell_type": "markdown",
   "id": "6c14ba3f",
   "metadata": {},
   "source": [
    "# EDA Exploratory Data Analysis"
   ]
  },
  {
   "cell_type": "markdown",
   "id": "c5c8ce8a",
   "metadata": {},
   "source": [
    "File and Data Field Descriptions\n",
    "\n",
    "## train\n",
    "\n",
    "**train.csv** - Personal records for about two-thirds (~8700) of the passengers, to be used as training data.\n",
    "\n",
    " - **PassengerId** - A unique Id for each passenger. Each Id takes the form gggg_pp where gggg indicates a group the passenger is travelling with and pp is their number within the group. People in a group are often family members, but not always.\n",
    "\n",
    " - **HomePlanet** - The planet the passenger departed from, typically their planet of permanent residence.\n",
    "\n",
    " - **CryoSleep** - Indicates whether the passenger elected to be put into suspended animation for the duration of the voyage. Passengers in cryosleep are confined to their cabins.\n",
    "\n",
    " - **Cabin** - The cabin number where the passenger is staying. Takes the form deck/num/side, where side can be either P for Port or S for Starboard.\n",
    "\n",
    " - **Destination** - The planet the passenger will be debarking to.\n",
    "\n",
    " - **Age** - The age of the passenger.\n",
    "\n",
    " - **VIP** - Whether the passenger has paid for special VIP service during the voyage.\n",
    "RoomService, FoodCourt, ShoppingMall, Spa, VRDeck - Amount the passenger has billed at each of the Spaceship Titanic's many luxury amenities.\n",
    "\n",
    " - **Name** - The first and last names of the passenger.\n",
    "Transported - Whether the passenger was transported to another dimension. This is the target, the column you are trying to predict.\n",
    "\n",
    "## test\n",
    "\n",
    "**test.csv** - Personal records for the remaining one-third (~4300) of the passengers, to be used as test data. Your task is to predict the value of Transported for the passengers in this set.\n",
    "\n",
    "## submission\n",
    "\n",
    "**sample_submission.csv** - A submission file in the correct format.\n",
    "\n",
    " - **PassengerId** - Id for each passenger in the test set.\n",
    "\n",
    " - **Transported** - The target. For each passenger, predict either True or False."
   ]
  },
  {
   "cell_type": "code",
   "execution_count": 7,
   "id": "906a774f",
   "metadata": {},
   "outputs": [
    {
     "data": {
      "text/plain": [
       "14"
      ]
     },
     "execution_count": 7,
     "metadata": {},
     "output_type": "execute_result"
    }
   ],
   "source": [
    "len(train.columns)"
   ]
  },
  {
   "cell_type": "code",
   "execution_count": 8,
   "id": "4a77216c",
   "metadata": {},
   "outputs": [],
   "source": [
    "def transform_data(df):\n",
    "    \n",
    "    n_columns = len(df.columns)\n",
    "    \n",
    "    #if(n_columns == 14):\n",
    "    #    y = df[\"Transported\"]\n",
    "    #    df = df.drop(columns=[\"Transported\"])\n",
    "    #else:\n",
    "    #    y = None\n",
    "    \n",
    "    # Cabin - The cabin number where the passenger is staying.\n",
    "    # Takes the form deck/num/side, where side can be either P for Port or S for Starboard.\n",
    "    df[[\"cabin_deck\",\"cabin_num\",\"cabin_side\"]] = df[\"Cabin\"].str.split(\"/\", expand=True)\n",
    "    \n",
    "    df[\"cabin_code\"] = df[\"cabin_deck\"]+df[\"cabin_num\"]\n",
    "    \n",
    "    # PassengerId - A unique Id for each passenger. Each Id takes the form gggg_pp where gggg indicates a group the passenger is\n",
    "    # travelling with and pp is their number within the group. People in a group are often family members, but not always.\n",
    "    df[[\"group\",\"subgroup\"]] = df[\"PassengerId\"].str.split(\"_\",1, expand=True)\n",
    "    \n",
    "    # Name - The first and last names of the passenger.\n",
    "    df[[\"first_name\",\"last_name\"]] = df[\"Name\"].str.split(\" \",1, expand=True)\n",
    "    \n",
    "    return df#, y"
   ]
  },
  {
   "cell_type": "code",
   "execution_count": 9,
   "id": "83ff8b68",
   "metadata": {},
   "outputs": [],
   "source": [
    "df = transform_data(train)"
   ]
  },
  {
   "cell_type": "code",
   "execution_count": 10,
   "id": "7b427d25",
   "metadata": {},
   "outputs": [],
   "source": [
    "df = df.drop(columns=[\"PassengerId\",\"Name\",\"Cabin\",\"first_name\"])"
   ]
  },
  {
   "cell_type": "code",
   "execution_count": 11,
   "id": "8b1b60ad",
   "metadata": {},
   "outputs": [],
   "source": [
    "#df2, k = transform_data(test)\n",
    "#df = pd.concat([df,df2])"
   ]
  },
  {
   "cell_type": "code",
   "execution_count": 12,
   "id": "6e6b7e1c",
   "metadata": {},
   "outputs": [
    {
     "name": "stdout",
     "output_type": "stream",
     "text": [
      "<class 'pandas.core.frame.DataFrame'>\n",
      "RangeIndex: 8693 entries, 0 to 8692\n",
      "Data columns (total 18 columns):\n",
      " #   Column        Non-Null Count  Dtype  \n",
      "---  ------        --------------  -----  \n",
      " 0   HomePlanet    8492 non-null   object \n",
      " 1   CryoSleep     8476 non-null   object \n",
      " 2   Destination   8511 non-null   object \n",
      " 3   Age           8514 non-null   float64\n",
      " 4   VIP           8490 non-null   object \n",
      " 5   RoomService   8512 non-null   float64\n",
      " 6   FoodCourt     8510 non-null   float64\n",
      " 7   ShoppingMall  8485 non-null   float64\n",
      " 8   Spa           8510 non-null   float64\n",
      " 9   VRDeck        8505 non-null   float64\n",
      " 10  Transported   8693 non-null   bool   \n",
      " 11  cabin_deck    8494 non-null   object \n",
      " 12  cabin_num     8494 non-null   object \n",
      " 13  cabin_side    8494 non-null   object \n",
      " 14  cabin_code    8494 non-null   object \n",
      " 15  group         8693 non-null   object \n",
      " 16  subgroup      8693 non-null   object \n",
      " 17  last_name     8493 non-null   object \n",
      "dtypes: bool(1), float64(6), object(11)\n",
      "memory usage: 1.1+ MB\n"
     ]
    }
   ],
   "source": [
    "df.info()"
   ]
  },
  {
   "cell_type": "code",
   "execution_count": 13,
   "id": "085d1561",
   "metadata": {},
   "outputs": [
    {
     "data": {
      "text/plain": [
       "HomePlanet         3\n",
       "CryoSleep          2\n",
       "Destination        3\n",
       "Age               80\n",
       "VIP                2\n",
       "RoomService     1273\n",
       "FoodCourt       1507\n",
       "ShoppingMall    1115\n",
       "Spa             1327\n",
       "VRDeck          1306\n",
       "Transported        2\n",
       "cabin_deck         8\n",
       "cabin_num       1817\n",
       "cabin_side         2\n",
       "cabin_code      4453\n",
       "group           6217\n",
       "subgroup           8\n",
       "last_name       2217\n",
       "dtype: int64"
      ]
     },
     "execution_count": 13,
     "metadata": {},
     "output_type": "execute_result"
    }
   ],
   "source": [
    "df.nunique()"
   ]
  },
  {
   "cell_type": "code",
   "execution_count": 14,
   "id": "9aad2d12",
   "metadata": {},
   "outputs": [
    {
     "data": {
      "text/html": [
       "<div>\n",
       "<style scoped>\n",
       "    .dataframe tbody tr th:only-of-type {\n",
       "        vertical-align: middle;\n",
       "    }\n",
       "\n",
       "    .dataframe tbody tr th {\n",
       "        vertical-align: top;\n",
       "    }\n",
       "\n",
       "    .dataframe thead th {\n",
       "        text-align: right;\n",
       "    }\n",
       "</style>\n",
       "<table border=\"1\" class=\"dataframe\">\n",
       "  <thead>\n",
       "    <tr style=\"text-align: right;\">\n",
       "      <th></th>\n",
       "      <th>Age</th>\n",
       "      <th>RoomService</th>\n",
       "      <th>FoodCourt</th>\n",
       "      <th>ShoppingMall</th>\n",
       "      <th>Spa</th>\n",
       "      <th>VRDeck</th>\n",
       "    </tr>\n",
       "  </thead>\n",
       "  <tbody>\n",
       "    <tr>\n",
       "      <th>count</th>\n",
       "      <td>8514.000000</td>\n",
       "      <td>8512.000000</td>\n",
       "      <td>8510.000000</td>\n",
       "      <td>8485.000000</td>\n",
       "      <td>8510.000000</td>\n",
       "      <td>8505.000000</td>\n",
       "    </tr>\n",
       "    <tr>\n",
       "      <th>mean</th>\n",
       "      <td>28.827930</td>\n",
       "      <td>224.687617</td>\n",
       "      <td>458.077203</td>\n",
       "      <td>173.729169</td>\n",
       "      <td>311.138778</td>\n",
       "      <td>304.854791</td>\n",
       "    </tr>\n",
       "    <tr>\n",
       "      <th>std</th>\n",
       "      <td>14.489021</td>\n",
       "      <td>666.717663</td>\n",
       "      <td>1611.489240</td>\n",
       "      <td>604.696458</td>\n",
       "      <td>1136.705535</td>\n",
       "      <td>1145.717189</td>\n",
       "    </tr>\n",
       "    <tr>\n",
       "      <th>min</th>\n",
       "      <td>0.000000</td>\n",
       "      <td>0.000000</td>\n",
       "      <td>0.000000</td>\n",
       "      <td>0.000000</td>\n",
       "      <td>0.000000</td>\n",
       "      <td>0.000000</td>\n",
       "    </tr>\n",
       "    <tr>\n",
       "      <th>25%</th>\n",
       "      <td>19.000000</td>\n",
       "      <td>0.000000</td>\n",
       "      <td>0.000000</td>\n",
       "      <td>0.000000</td>\n",
       "      <td>0.000000</td>\n",
       "      <td>0.000000</td>\n",
       "    </tr>\n",
       "    <tr>\n",
       "      <th>50%</th>\n",
       "      <td>27.000000</td>\n",
       "      <td>0.000000</td>\n",
       "      <td>0.000000</td>\n",
       "      <td>0.000000</td>\n",
       "      <td>0.000000</td>\n",
       "      <td>0.000000</td>\n",
       "    </tr>\n",
       "    <tr>\n",
       "      <th>75%</th>\n",
       "      <td>38.000000</td>\n",
       "      <td>47.000000</td>\n",
       "      <td>76.000000</td>\n",
       "      <td>27.000000</td>\n",
       "      <td>59.000000</td>\n",
       "      <td>46.000000</td>\n",
       "    </tr>\n",
       "    <tr>\n",
       "      <th>max</th>\n",
       "      <td>79.000000</td>\n",
       "      <td>14327.000000</td>\n",
       "      <td>29813.000000</td>\n",
       "      <td>23492.000000</td>\n",
       "      <td>22408.000000</td>\n",
       "      <td>24133.000000</td>\n",
       "    </tr>\n",
       "  </tbody>\n",
       "</table>\n",
       "</div>"
      ],
      "text/plain": [
       "               Age   RoomService     FoodCourt  ShoppingMall           Spa  \\\n",
       "count  8514.000000   8512.000000   8510.000000   8485.000000   8510.000000   \n",
       "mean     28.827930    224.687617    458.077203    173.729169    311.138778   \n",
       "std      14.489021    666.717663   1611.489240    604.696458   1136.705535   \n",
       "min       0.000000      0.000000      0.000000      0.000000      0.000000   \n",
       "25%      19.000000      0.000000      0.000000      0.000000      0.000000   \n",
       "50%      27.000000      0.000000      0.000000      0.000000      0.000000   \n",
       "75%      38.000000     47.000000     76.000000     27.000000     59.000000   \n",
       "max      79.000000  14327.000000  29813.000000  23492.000000  22408.000000   \n",
       "\n",
       "             VRDeck  \n",
       "count   8505.000000  \n",
       "mean     304.854791  \n",
       "std     1145.717189  \n",
       "min        0.000000  \n",
       "25%        0.000000  \n",
       "50%        0.000000  \n",
       "75%       46.000000  \n",
       "max    24133.000000  "
      ]
     },
     "execution_count": 14,
     "metadata": {},
     "output_type": "execute_result"
    }
   ],
   "source": [
    "df.describe()"
   ]
  },
  {
   "cell_type": "code",
   "execution_count": 15,
   "id": "f8c98e67",
   "metadata": {},
   "outputs": [],
   "source": [
    "df = pd.get_dummies(df,columns=[\"HomePlanet\",\"CryoSleep\",\"Destination\",\"VIP\",\"Transported\",\"cabin_side\",\"cabin_deck\"])"
   ]
  },
  {
   "cell_type": "code",
   "execution_count": 16,
   "id": "d731c00b",
   "metadata": {},
   "outputs": [],
   "source": [
    "import seaborn as sns"
   ]
  },
  {
   "cell_type": "code",
   "execution_count": 17,
   "id": "28b47a6b",
   "metadata": {},
   "outputs": [
    {
     "name": "stdout",
     "output_type": "stream",
     "text": [
      "<class 'pandas.core.frame.DataFrame'>\n",
      "RangeIndex: 8693 entries, 0 to 8692\n",
      "Data columns (total 33 columns):\n",
      " #   Column                     Non-Null Count  Dtype  \n",
      "---  ------                     --------------  -----  \n",
      " 0   Age                        8514 non-null   float64\n",
      " 1   RoomService                8512 non-null   float64\n",
      " 2   FoodCourt                  8510 non-null   float64\n",
      " 3   ShoppingMall               8485 non-null   float64\n",
      " 4   Spa                        8510 non-null   float64\n",
      " 5   VRDeck                     8505 non-null   float64\n",
      " 6   cabin_num                  8494 non-null   object \n",
      " 7   cabin_code                 8494 non-null   object \n",
      " 8   group                      8693 non-null   object \n",
      " 9   subgroup                   8693 non-null   object \n",
      " 10  last_name                  8493 non-null   object \n",
      " 11  HomePlanet_Earth           8693 non-null   uint8  \n",
      " 12  HomePlanet_Europa          8693 non-null   uint8  \n",
      " 13  HomePlanet_Mars            8693 non-null   uint8  \n",
      " 14  CryoSleep_False            8693 non-null   uint8  \n",
      " 15  CryoSleep_True             8693 non-null   uint8  \n",
      " 16  Destination_55 Cancri e    8693 non-null   uint8  \n",
      " 17  Destination_PSO J318.5-22  8693 non-null   uint8  \n",
      " 18  Destination_TRAPPIST-1e    8693 non-null   uint8  \n",
      " 19  VIP_False                  8693 non-null   uint8  \n",
      " 20  VIP_True                   8693 non-null   uint8  \n",
      " 21  Transported_False          8693 non-null   uint8  \n",
      " 22  Transported_True           8693 non-null   uint8  \n",
      " 23  cabin_side_P               8693 non-null   uint8  \n",
      " 24  cabin_side_S               8693 non-null   uint8  \n",
      " 25  cabin_deck_A               8693 non-null   uint8  \n",
      " 26  cabin_deck_B               8693 non-null   uint8  \n",
      " 27  cabin_deck_C               8693 non-null   uint8  \n",
      " 28  cabin_deck_D               8693 non-null   uint8  \n",
      " 29  cabin_deck_E               8693 non-null   uint8  \n",
      " 30  cabin_deck_F               8693 non-null   uint8  \n",
      " 31  cabin_deck_G               8693 non-null   uint8  \n",
      " 32  cabin_deck_T               8693 non-null   uint8  \n",
      "dtypes: float64(6), object(5), uint8(22)\n",
      "memory usage: 933.9+ KB\n"
     ]
    }
   ],
   "source": [
    "df.info()"
   ]
  },
  {
   "cell_type": "code",
   "execution_count": 18,
   "id": "6ff9f56c",
   "metadata": {},
   "outputs": [],
   "source": [
    "df = df.drop(columns=[\"CryoSleep_False\",\"VIP_False\",\"Transported_False\",\"cabin_num\"])"
   ]
  },
  {
   "cell_type": "code",
   "execution_count": 19,
   "id": "6af183f1",
   "metadata": {},
   "outputs": [
    {
     "data": {
      "text/plain": [
       "Age                            80\n",
       "RoomService                  1273\n",
       "FoodCourt                    1507\n",
       "ShoppingMall                 1115\n",
       "Spa                          1327\n",
       "VRDeck                       1306\n",
       "cabin_code                   4453\n",
       "group                        6217\n",
       "subgroup                        8\n",
       "last_name                    2217\n",
       "HomePlanet_Earth                2\n",
       "HomePlanet_Europa               2\n",
       "HomePlanet_Mars                 2\n",
       "CryoSleep_True                  2\n",
       "Destination_55 Cancri e         2\n",
       "Destination_PSO J318.5-22       2\n",
       "Destination_TRAPPIST-1e         2\n",
       "VIP_True                        2\n",
       "Transported_True                2\n",
       "cabin_side_P                    2\n",
       "cabin_side_S                    2\n",
       "cabin_deck_A                    2\n",
       "cabin_deck_B                    2\n",
       "cabin_deck_C                    2\n",
       "cabin_deck_D                    2\n",
       "cabin_deck_E                    2\n",
       "cabin_deck_F                    2\n",
       "cabin_deck_G                    2\n",
       "cabin_deck_T                    2\n",
       "dtype: int64"
      ]
     },
     "execution_count": 19,
     "metadata": {},
     "output_type": "execute_result"
    }
   ],
   "source": [
    "df.nunique()"
   ]
  },
  {
   "cell_type": "code",
   "execution_count": 20,
   "id": "ad11ba31",
   "metadata": {},
   "outputs": [
    {
     "name": "stdout",
     "output_type": "stream",
     "text": [
      "<class 'pandas.core.frame.DataFrame'>\n",
      "RangeIndex: 8693 entries, 0 to 8692\n",
      "Data columns (total 29 columns):\n",
      " #   Column                     Non-Null Count  Dtype  \n",
      "---  ------                     --------------  -----  \n",
      " 0   Age                        8514 non-null   float64\n",
      " 1   RoomService                8512 non-null   float64\n",
      " 2   FoodCourt                  8510 non-null   float64\n",
      " 3   ShoppingMall               8485 non-null   float64\n",
      " 4   Spa                        8510 non-null   float64\n",
      " 5   VRDeck                     8505 non-null   float64\n",
      " 6   cabin_code                 8494 non-null   object \n",
      " 7   group                      8693 non-null   object \n",
      " 8   subgroup                   8693 non-null   object \n",
      " 9   last_name                  8493 non-null   object \n",
      " 10  HomePlanet_Earth           8693 non-null   uint8  \n",
      " 11  HomePlanet_Europa          8693 non-null   uint8  \n",
      " 12  HomePlanet_Mars            8693 non-null   uint8  \n",
      " 13  CryoSleep_True             8693 non-null   uint8  \n",
      " 14  Destination_55 Cancri e    8693 non-null   uint8  \n",
      " 15  Destination_PSO J318.5-22  8693 non-null   uint8  \n",
      " 16  Destination_TRAPPIST-1e    8693 non-null   uint8  \n",
      " 17  VIP_True                   8693 non-null   uint8  \n",
      " 18  Transported_True           8693 non-null   uint8  \n",
      " 19  cabin_side_P               8693 non-null   uint8  \n",
      " 20  cabin_side_S               8693 non-null   uint8  \n",
      " 21  cabin_deck_A               8693 non-null   uint8  \n",
      " 22  cabin_deck_B               8693 non-null   uint8  \n",
      " 23  cabin_deck_C               8693 non-null   uint8  \n",
      " 24  cabin_deck_D               8693 non-null   uint8  \n",
      " 25  cabin_deck_E               8693 non-null   uint8  \n",
      " 26  cabin_deck_F               8693 non-null   uint8  \n",
      " 27  cabin_deck_G               8693 non-null   uint8  \n",
      " 28  cabin_deck_T               8693 non-null   uint8  \n",
      "dtypes: float64(6), object(4), uint8(19)\n",
      "memory usage: 840.6+ KB\n"
     ]
    }
   ],
   "source": [
    "df.info()"
   ]
  },
  {
   "cell_type": "code",
   "execution_count": 21,
   "id": "3afb97b7",
   "metadata": {},
   "outputs": [
    {
     "data": {
      "text/plain": [
       "<AxesSubplot:>"
      ]
     },
     "execution_count": 21,
     "metadata": {},
     "output_type": "execute_result"
    },
    {
     "data": {
      "image/png": "[encoded data removed]",
      "text/plain": [
       "<Figure size 432x288 with 2 Axes>"
      ]
     },
     "metadata": {
      "needs_background": "light"
     },
     "output_type": "display_data"
    }
   ],
   "source": [
    "sns.heatmap(df[[\"Transported_True\",\"cabin_side_P\",\"cabin_side_S\"]].corr(), cmap=\"Blues\", annot=True)"
   ]
  },
  {
   "cell_type": "code",
   "execution_count": 22,
   "id": "1176cd66",
   "metadata": {},
   "outputs": [
    {
     "data": {
      "text/plain": [
       "<AxesSubplot:>"
      ]
     },
     "execution_count": 22,
     "metadata": {},
     "output_type": "execute_result"
    },
    {
     "data": {
      "image/png": "[encoded data removed]",
      "text/plain": [
       "<Figure size 432x288 with 2 Axes>"
      ]
     },
     "metadata": {
      "needs_background": "light"
     },
     "output_type": "display_data"
    }
   ],
   "source": [
    "df2 = df[[\"Transported_True\",\"cabin_deck_A\",\"cabin_deck_B\",\"cabin_deck_C\",\"cabin_deck_D\",\"cabin_deck_E\",\"cabin_deck_F\",\"cabin_deck_G\",\"cabin_deck_T\",\"cabin_side_P\",\"cabin_side_S\"]]\n",
    "\n",
    "sns.heatmap(df2.corr(), cmap=\"YlGnBu\", annot=True)"
   ]
  },
  {
   "cell_type": "code",
   "execution_count": 23,
   "id": "76ad9617",
   "metadata": {},
   "outputs": [
    {
     "data": {
      "text/plain": [
       "<AxesSubplot:>"
      ]
     },
     "execution_count": 23,
     "metadata": {},
     "output_type": "execute_result"
    },
    {
     "data": {
      "image/png": "[encoded data removed]",
      "text/plain": [
       "<Figure size 432x288 with 2 Axes>"
      ]
     },
     "metadata": {
      "needs_background": "light"
     },
     "output_type": "display_data"
    }
   ],
   "source": [
    "df3 = df[[\"HomePlanet_Earth\",\"HomePlanet_Europa\",\"HomePlanet_Mars\",\"CryoSleep_True\",\"Destination_55 Cancri e\",\n",
    "          \"Destination_PSO J318.5-22\",\"Destination_TRAPPIST-1e\",\"VIP_True\",\"Transported_True\"]]\n",
    "\n",
    "sns.heatmap(df3.corr(), cmap=\"YlGnBu\", annot=True)"
   ]
  },
  {
   "cell_type": "code",
   "execution_count": 24,
   "id": "381952c5",
   "metadata": {},
   "outputs": [],
   "source": [
    "df_earth = df[df[\"HomePlanet_Earth\"]==1]"
   ]
  },
  {
   "cell_type": "code",
   "execution_count": 25,
   "id": "78072c78",
   "metadata": {},
   "outputs": [],
   "source": [
    "df_earth = df_earth.reset_index()"
   ]
  },
  {
   "cell_type": "code",
   "execution_count": 26,
   "id": "0f76bc90",
   "metadata": {},
   "outputs": [],
   "source": [
    "df_earth2 = df_earth.groupby(by=[\"Destination_55 Cancri e\",\"Destination_PSO J318.5-22\",\"Destination_TRAPPIST-1e\"]).count()"
   ]
  },
  {
   "cell_type": "code",
   "execution_count": 27,
   "id": "691f0b18",
   "metadata": {},
   "outputs": [
    {
     "data": {
      "text/plain": [
       "Destination_55 Cancri e  Destination_PSO J318.5-22  Destination_TRAPPIST-1e\n",
       "0                        0                          0                            99\n",
       "                                                    1                          3101\n",
       "                         1                          0                           712\n",
       "1                        0                          0                           690\n",
       "Name: index, dtype: int64"
      ]
     },
     "execution_count": 27,
     "metadata": {},
     "output_type": "execute_result"
    }
   ],
   "source": [
    "df_earth2[\"index\"]"
   ]
  },
  {
   "cell_type": "code",
   "execution_count": null,
   "id": "90212a45",
   "metadata": {},
   "outputs": [],
   "source": []
  },
  {
   "cell_type": "code",
   "execution_count": 28,
   "id": "a41374fc",
   "metadata": {},
   "outputs": [
    {
     "data": {
      "text/plain": [
       "<AxesSubplot:ylabel='Frequency'>"
      ]
     },
     "execution_count": 28,
     "metadata": {},
     "output_type": "execute_result"
    },
    {
     "data": {
      "image/png": "[encoded data removed]",
      "text/plain": [
       "<Figure size 432x288 with 1 Axes>"
      ]
     },
     "metadata": {
      "needs_background": "light"
     },
     "output_type": "display_data"
    }
   ],
   "source": [
    "df[\"Transported_True\"].plot.hist()"
   ]
  },
  {
   "cell_type": "code",
   "execution_count": 29,
   "id": "2578eeb4",
   "metadata": {},
   "outputs": [],
   "source": [
    "from sklearn.linear_model import LogisticRegression"
   ]
  },
  {
   "cell_type": "code",
   "execution_count": 30,
   "id": "df9644fb",
   "metadata": {},
   "outputs": [],
   "source": [
    "lr = LogisticRegression()"
   ]
  },
  {
   "cell_type": "code",
   "execution_count": 31,
   "id": "d3ad31eb",
   "metadata": {},
   "outputs": [],
   "source": [
    "X = df.drop(columns=[\"Transported_True\"])\n",
    "y = df[\"Transported_True\"]"
   ]
  },
  {
   "cell_type": "code",
   "execution_count": 32,
   "id": "3ca9b0b7",
   "metadata": {},
   "outputs": [
    {
     "name": "stdout",
     "output_type": "stream",
     "text": [
      "<class 'pandas.core.frame.DataFrame'>\n",
      "RangeIndex: 8693 entries, 0 to 8692\n",
      "Data columns (total 28 columns):\n",
      " #   Column                     Non-Null Count  Dtype  \n",
      "---  ------                     --------------  -----  \n",
      " 0   Age                        8514 non-null   float64\n",
      " 1   RoomService                8512 non-null   float64\n",
      " 2   FoodCourt                  8510 non-null   float64\n",
      " 3   ShoppingMall               8485 non-null   float64\n",
      " 4   Spa                        8510 non-null   float64\n",
      " 5   VRDeck                     8505 non-null   float64\n",
      " 6   cabin_code                 8494 non-null   object \n",
      " 7   group                      8693 non-null   object \n",
      " 8   subgroup                   8693 non-null   object \n",
      " 9   last_name                  8493 non-null   object \n",
      " 10  HomePlanet_Earth           8693 non-null   uint8  \n",
      " 11  HomePlanet_Europa          8693 non-null   uint8  \n",
      " 12  HomePlanet_Mars            8693 non-null   uint8  \n",
      " 13  CryoSleep_True             8693 non-null   uint8  \n",
      " 14  Destination_55 Cancri e    8693 non-null   uint8  \n",
      " 15  Destination_PSO J318.5-22  8693 non-null   uint8  \n",
      " 16  Destination_TRAPPIST-1e    8693 non-null   uint8  \n",
      " 17  VIP_True                   8693 non-null   uint8  \n",
      " 18  cabin_side_P               8693 non-null   uint8  \n",
      " 19  cabin_side_S               8693 non-null   uint8  \n",
      " 20  cabin_deck_A               8693 non-null   uint8  \n",
      " 21  cabin_deck_B               8693 non-null   uint8  \n",
      " 22  cabin_deck_C               8693 non-null   uint8  \n",
      " 23  cabin_deck_D               8693 non-null   uint8  \n",
      " 24  cabin_deck_E               8693 non-null   uint8  \n",
      " 25  cabin_deck_F               8693 non-null   uint8  \n",
      " 26  cabin_deck_G               8693 non-null   uint8  \n",
      " 27  cabin_deck_T               8693 non-null   uint8  \n",
      "dtypes: float64(6), object(4), uint8(18)\n",
      "memory usage: 832.1+ KB\n"
     ]
    }
   ],
   "source": [
    "X.info()"
   ]
  },
  {
   "cell_type": "code",
   "execution_count": 33,
   "id": "1bb9fa30",
   "metadata": {},
   "outputs": [],
   "source": [
    "X = X.drop(columns=[\"cabin_code\",\"group\",\"subgroup\",\"last_name\"])"
   ]
  },
  {
   "cell_type": "code",
   "execution_count": 34,
   "id": "c2b4a5bd",
   "metadata": {},
   "outputs": [
    {
     "name": "stdout",
     "output_type": "stream",
     "text": [
      "<class 'pandas.core.frame.DataFrame'>\n",
      "RangeIndex: 8693 entries, 0 to 8692\n",
      "Data columns (total 24 columns):\n",
      " #   Column                     Non-Null Count  Dtype  \n",
      "---  ------                     --------------  -----  \n",
      " 0   Age                        8514 non-null   float64\n",
      " 1   RoomService                8512 non-null   float64\n",
      " 2   FoodCourt                  8510 non-null   float64\n",
      " 3   ShoppingMall               8485 non-null   float64\n",
      " 4   Spa                        8510 non-null   float64\n",
      " 5   VRDeck                     8505 non-null   float64\n",
      " 6   HomePlanet_Earth           8693 non-null   uint8  \n",
      " 7   HomePlanet_Europa          8693 non-null   uint8  \n",
      " 8   HomePlanet_Mars            8693 non-null   uint8  \n",
      " 9   CryoSleep_True             8693 non-null   uint8  \n",
      " 10  Destination_55 Cancri e    8693 non-null   uint8  \n",
      " 11  Destination_PSO J318.5-22  8693 non-null   uint8  \n",
      " 12  Destination_TRAPPIST-1e    8693 non-null   uint8  \n",
      " 13  VIP_True                   8693 non-null   uint8  \n",
      " 14  cabin_side_P               8693 non-null   uint8  \n",
      " 15  cabin_side_S               8693 non-null   uint8  \n",
      " 16  cabin_deck_A               8693 non-null   uint8  \n",
      " 17  cabin_deck_B               8693 non-null   uint8  \n",
      " 18  cabin_deck_C               8693 non-null   uint8  \n",
      " 19  cabin_deck_D               8693 non-null   uint8  \n",
      " 20  cabin_deck_E               8693 non-null   uint8  \n",
      " 21  cabin_deck_F               8693 non-null   uint8  \n",
      " 22  cabin_deck_G               8693 non-null   uint8  \n",
      " 23  cabin_deck_T               8693 non-null   uint8  \n",
      "dtypes: float64(6), uint8(18)\n",
      "memory usage: 560.4 KB\n"
     ]
    }
   ],
   "source": [
    "X.info()"
   ]
  },
  {
   "cell_type": "code",
   "execution_count": 35,
   "id": "2c793696",
   "metadata": {},
   "outputs": [],
   "source": [
    "X[\"Age\"] = X[\"Age\"].fillna(X[\"Age\"].mean())\n",
    "X[\"RoomService\"] = X[\"RoomService\"].fillna(X[\"RoomService\"].mean())\n",
    "X[\"FoodCourt\"] = X[\"FoodCourt\"].fillna(X[\"FoodCourt\"].mean())\n",
    "X[\"ShoppingMall\"] = X[\"ShoppingMall\"].fillna(X[\"ShoppingMall\"].mean())\n",
    "X[\"Spa\"] = X[\"Spa\"].fillna(X[\"Spa\"].mean())\n",
    "X[\"VRDeck\"] = X[\"VRDeck\"].fillna(X[\"VRDeck\"].mean())"
   ]
  },
  {
   "cell_type": "code",
   "execution_count": null,
   "id": "673f7f51",
   "metadata": {},
   "outputs": [],
   "source": []
  },
  {
   "cell_type": "code",
   "execution_count": 36,
   "id": "4f6c42bc",
   "metadata": {},
   "outputs": [
    {
     "data": {
      "text/plain": [
       "<AxesSubplot:>"
      ]
     },
     "execution_count": 36,
     "metadata": {},
     "output_type": "execute_result"
    },
    {
     "data": {
      "image/png": "[encoded data removed]",
      "text/plain": [
       "<Figure size 432x288 with 1 Axes>"
      ]
     },
     "metadata": {
      "needs_background": "light"
     },
     "output_type": "display_data"
    }
   ],
   "source": [
    "X.plot.box()"
   ]
  },
  {
   "cell_type": "code",
   "execution_count": 37,
   "id": "375e81c1",
   "metadata": {},
   "outputs": [
    {
     "name": "stdout",
     "output_type": "stream",
     "text": [
      "<class 'pandas.core.frame.DataFrame'>\n",
      "RangeIndex: 8693 entries, 0 to 8692\n",
      "Data columns (total 24 columns):\n",
      " #   Column                     Non-Null Count  Dtype  \n",
      "---  ------                     --------------  -----  \n",
      " 0   Age                        8693 non-null   float64\n",
      " 1   RoomService                8693 non-null   float64\n",
      " 2   FoodCourt                  8693 non-null   float64\n",
      " 3   ShoppingMall               8693 non-null   float64\n",
      " 4   Spa                        8693 non-null   float64\n",
      " 5   VRDeck                     8693 non-null   float64\n",
      " 6   HomePlanet_Earth           8693 non-null   uint8  \n",
      " 7   HomePlanet_Europa          8693 non-null   uint8  \n",
      " 8   HomePlanet_Mars            8693 non-null   uint8  \n",
      " 9   CryoSleep_True             8693 non-null   uint8  \n",
      " 10  Destination_55 Cancri e    8693 non-null   uint8  \n",
      " 11  Destination_PSO J318.5-22  8693 non-null   uint8  \n",
      " 12  Destination_TRAPPIST-1e    8693 non-null   uint8  \n",
      " 13  VIP_True                   8693 non-null   uint8  \n",
      " 14  cabin_side_P               8693 non-null   uint8  \n",
      " 15  cabin_side_S               8693 non-null   uint8  \n",
      " 16  cabin_deck_A               8693 non-null   uint8  \n",
      " 17  cabin_deck_B               8693 non-null   uint8  \n",
      " 18  cabin_deck_C               8693 non-null   uint8  \n",
      " 19  cabin_deck_D               8693 non-null   uint8  \n",
      " 20  cabin_deck_E               8693 non-null   uint8  \n",
      " 21  cabin_deck_F               8693 non-null   uint8  \n",
      " 22  cabin_deck_G               8693 non-null   uint8  \n",
      " 23  cabin_deck_T               8693 non-null   uint8  \n",
      "dtypes: float64(6), uint8(18)\n",
      "memory usage: 560.4 KB\n"
     ]
    }
   ],
   "source": [
    "X.info()"
   ]
  },
  {
   "cell_type": "code",
   "execution_count": 38,
   "id": "5845cea6",
   "metadata": {},
   "outputs": [],
   "source": [
    "scaler = preprocessing.StandardScaler().fit(X)"
   ]
  },
  {
   "cell_type": "code",
   "execution_count": 39,
   "id": "976b2fbc",
   "metadata": {},
   "outputs": [],
   "source": [
    "X_scaled = scaler.transform(X)"
   ]
  },
  {
   "cell_type": "code",
   "execution_count": 40,
   "id": "bc1b1ebc",
   "metadata": {},
   "outputs": [
    {
     "data": {
      "text/plain": [
       "array([[ 0.70943692, -0.34058987, -0.28731404, ..., -0.68821479,\n",
       "        -0.64589698, -0.02398972],\n",
       "       [-0.33671733, -0.1753636 , -0.28166908, ...,  1.45303474,\n",
       "        -0.64589698, -0.02398972],\n",
       "       [ 2.03456565, -0.27540886,  1.95561575, ..., -0.68821479,\n",
       "        -0.64589698, -0.02398972],\n",
       "       ...,\n",
       "       [-0.1972301 , -0.34058987, -0.28731404, ..., -0.68821479,\n",
       "         1.54823451, -0.02398972],\n",
       "       [ 0.2212316 , -0.34058987,  0.37063712, ..., -0.68821479,\n",
       "        -0.64589698, -0.02398972],\n",
       "       [ 1.05815501, -0.14959437,  2.65308161, ..., -0.68821479,\n",
       "        -0.64589698, -0.02398972]])"
      ]
     },
     "execution_count": 40,
     "metadata": {},
     "output_type": "execute_result"
    }
   ],
   "source": [
    "X_scaled"
   ]
  },
  {
   "cell_type": "code",
   "execution_count": null,
   "id": "99481778",
   "metadata": {},
   "outputs": [],
   "source": []
  },
  {
   "cell_type": "code",
   "execution_count": null,
   "id": "d08abb87",
   "metadata": {},
   "outputs": [],
   "source": []
  },
  {
   "cell_type": "code",
   "execution_count": 44,
   "id": "1645d5cd",
   "metadata": {},
   "outputs": [],
   "source": [
    "from train_test_split import tt_split"
   ]
  },
  {
   "cell_type": "code",
   "execution_count": 45,
   "id": "c17479f1",
   "metadata": {},
   "outputs": [],
   "source": [
    "X_train, X_test, y_train, y_test = tt_split(X_scaled,y)"
   ]
  },
  {
   "cell_type": "code",
   "execution_count": 49,
   "id": "0d345359",
   "metadata": {},
   "outputs": [
    {
     "data": {
      "text/plain": [
       "LogisticRegression()"
      ]
     },
     "execution_count": 49,
     "metadata": {},
     "output_type": "execute_result"
    }
   ],
   "source": [
    "lr.fit(X_train,y_train)"
   ]
  },
  {
   "cell_type": "code",
   "execution_count": 50,
   "id": "d5bbd2d0",
   "metadata": {},
   "outputs": [],
   "source": [
    "y_pred = lr.predict(X_test)"
   ]
  },
  {
   "cell_type": "code",
   "execution_count": null,
   "id": "27a34af9",
   "metadata": {},
   "outputs": [],
   "source": []
  },
  {
   "cell_type": "code",
   "execution_count": 54,
   "id": "77d285b3",
   "metadata": {},
   "outputs": [],
   "source": [
    "from sklearn.metrics import confusion_matrix"
   ]
  },
  {
   "cell_type": "code",
   "execution_count": 67,
   "id": "c3761c2a",
   "metadata": {},
   "outputs": [
    {
     "data": {
      "text/plain": [
       "array([[695, 187],\n",
       "       [157, 700]], dtype=int64)"
      ]
     },
     "execution_count": 67,
     "metadata": {},
     "output_type": "execute_result"
    }
   ],
   "source": [
    "confusion_matrix(y_test,y_pred)"
   ]
  },
  {
   "cell_type": "code",
   "execution_count": 74,
   "id": "ddd73737",
   "metadata": {},
   "outputs": [],
   "source": [
    "cf_matrix = confusion_matrix(y_test,y_pred)"
   ]
  },
  {
   "cell_type": "code",
   "execution_count": 75,
   "id": "6fcf9121",
   "metadata": {},
   "outputs": [
    {
     "data": {
      "text/plain": [
       "<AxesSubplot:>"
      ]
     },
     "execution_count": 75,
     "metadata": {},
     "output_type": "execute_result"
    },
    {
     "data": {
      "image/png": "[encoded data removed]",
      "text/plain": [
       "<Figure size 432x288 with 2 Axes>"
      ]
     },
     "metadata": {
      "needs_background": "light"
     },
     "output_type": "display_data"
    }
   ],
   "source": [
    "sns.heatmap(cf_matrix/np.sum(cf_matrix), annot=True,fmt=\".2%\")"
   ]
  },
  {
   "cell_type": "code",
   "execution_count": null,
   "id": "5d8840ae",
   "metadata": {},
   "outputs": [],
   "source": []
  }
 ],
 "metadata": {
  "kernelspec": {
   "display_name": "Python 3 (ipykernel)",
   "language": "python",
   "name": "python3"
  },
  "language_info": {
   "codemirror_mode": {
    "name": "ipython",
    "version": 3
   },
   "file_extension": ".py",
   "mimetype": "text/x-python",
   "name": "python",
   "nbconvert_exporter": "python",
   "pygments_lexer": "ipython3",
   "version": "3.9.12"
  }
 },
 "nbformat": 4,
 "nbformat_minor": 5
}
